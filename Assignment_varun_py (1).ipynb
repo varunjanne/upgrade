{
 "cells": [
  {
   "cell_type": "code",
   "execution_count": 1,
   "metadata": {
    "colab": {
     "base_uri": "https://localhost:8080/",
     "height": 130
    },
    "id": "AWeaajBMy19w",
    "outputId": "bb86022f-6953-4676-b61e-16aecebafed7"
   },
   "outputs": [
    {
     "name": "stdout",
     "output_type": "stream",
     "text": [
      "My name is varun\n"
     ]
    }
   ],
   "source": [
    " print('My name is varun')"
   ]
  },
  {
   "cell_type": "code",
   "execution_count": 2,
   "metadata": {
    "id": "TK0Kdt12oVKL"
   },
   "outputs": [
    {
     "name": "stdout",
     "output_type": "stream",
     "text": [
      "I am 19 years old\n"
     ]
    }
   ],
   "source": [
    "print(\"I am 19 years old\")"
   ]
  },
  {
   "cell_type": "code",
   "execution_count": 10,
   "metadata": {
    "id": "Zg8XfVom1oN9"
   },
   "outputs": [
    {
     "name": "stdout",
     "output_type": "stream",
     "text": [
      "Andhrapradesh\n"
     ]
    }
   ],
   "source": [
    "State = \"Andhrapradesh\"\n",
    "print(State)"
   ]
  },
  {
   "cell_type": "code",
   "execution_count": 9,
   "metadata": {
    "id": "_v6K_U_uolqx"
   },
   "outputs": [
    {
     "name": "stdout",
     "output_type": "stream",
     "text": [
      "Andhrapradesh\n",
      "madanapalli\n"
     ]
    }
   ],
   "source": [
    "State = \"Andhrapradesh\"\n",
    "print(State)\n",
    "\n",
    "city = \"madanapalli\"\n",
    "print(city)"
   ]
  },
  {
   "cell_type": "code",
   "execution_count": 8,
   "metadata": {
    "id": "IAQtAJLSpUBK"
   },
   "outputs": [
    {
     "name": "stdout",
     "output_type": "stream",
     "text": [
      "vasishta School\n"
     ]
    }
   ],
   "source": [
    "city = \"madanapalli\"\n",
    "School = \"vasishta School\"\n",
    "\n",
    "city = School\n",
    "print(city)"
   ]
  },
  {
   "cell_type": "code",
   "execution_count": 6,
   "metadata": {
    "id": "Km85fo1TprhS"
   },
   "outputs": [
    {
     "name": "stdout",
     "output_type": "stream",
     "text": [
      "2010\n",
      "3.14\n",
      "2010\n"
     ]
    }
   ],
   "source": [
    "Born_in = 2010\n",
    "print(Born_in)\n",
    "\n",
    "pi = 3.14\n",
    "print(pi)\n",
    "\n",
    "\n",
    "\n",
    "print(Born_in)\n"
   ]
  },
  {
   "cell_type": "code",
   "execution_count": 11,
   "metadata": {
    "id": "56bJ25hXqhjM"
   },
   "outputs": [
    {
     "name": "stdout",
     "output_type": "stream",
     "text": [
      "City: madanapalli\n"
     ]
    }
   ],
   "source": [
    "print(\"City:\", city)"
   ]
  },
  {
   "cell_type": "code",
   "execution_count": null,
   "metadata": {},
   "outputs": [],
   "source": []
  }
 ],
 "metadata": {
  "colab": {
   "collapsed_sections": [],
   "name": "Assignment Shantanu.py",
   "provenance": []
  },
  "kernelspec": {
   "display_name": "Python 3",
   "language": "python",
   "name": "python3"
  },
  "language_info": {
   "codemirror_mode": {
    "name": "ipython",
    "version": 3
   },
   "file_extension": ".py",
   "mimetype": "text/x-python",
   "name": "python",
   "nbconvert_exporter": "python",
   "pygments_lexer": "ipython3",
   "version": "3.8.8"
  }
 },
 "nbformat": 4,
 "nbformat_minor": 1
}
